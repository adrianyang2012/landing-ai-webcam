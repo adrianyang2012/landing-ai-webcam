{
  "nbformat": 4,
  "nbformat_minor": 0,
  "metadata": {
    "colab": {
      "private_outputs": true,
      "provenance": [],
      "authorship_tag": "ABX9TyOHsv9v7v2UEoz+Rn4QUWWu",
      "include_colab_link": true
    },
    "kernelspec": {
      "name": "python3",
      "display_name": "Python 3"
    },
    "language_info": {
      "name": "python"
    }
  },
  "cells": [
    {
      "cell_type": "markdown",
      "metadata": {
        "id": "view-in-github",
        "colab_type": "text"
      },
      "source": [
        "<a href=\"https://colab.research.google.com/github/adrianyang2012/landing-ai-webcam/blob/main/config.ipynb\" target=\"_parent\"><img src=\"https://colab.research.google.com/assets/colab-badge.svg\" alt=\"Open In Colab\"/></a>"
      ]
    },
    {
      "cell_type": "code",
      "execution_count": null,
      "metadata": {
        "id": "1tt6QiIetuD7"
      },
      "outputs": [],
      "source": [
        "\n",
        "apikey = 'bdsbh436tyek6zciug683stao9idfhr'\n",
        "apisecret = 'nw7ycypwbv1i1oskrg44ep9jaghlyail105syjnd85w4hezngbisjjbfvt5sl8'\n"
      ]
    }
  ]
}