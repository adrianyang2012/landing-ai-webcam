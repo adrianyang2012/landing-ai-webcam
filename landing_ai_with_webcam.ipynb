{
  "nbformat": 4,
  "nbformat_minor": 0,
  "metadata": {
    "colab": {
      "private_outputs": true,
      "provenance": [],
      "authorship_tag": "ABX9TyNktOt5ay/CKL9Hw6jJnBzg",
      "include_colab_link": true
    },
    "kernelspec": {
      "name": "python3",
      "display_name": "Python 3"
    },
    "language_info": {
      "name": "python"
    }
  },
  "cells": [
    {
      "cell_type": "markdown",
      "metadata": {
        "id": "view-in-github",
        "colab_type": "text"
      },
      "source": [
        "<a href=\"https://colab.research.google.com/github/adrianyang2012/landing-ai-webcam/blob/main/landing_ai_with_webcam.ipynb\" target=\"_parent\"><img src=\"https://colab.research.google.com/assets/colab-badge.svg\" alt=\"Open In Colab\"/></a>"
      ]
    },
    {
      "cell_type": "code",
      "source": [
        "from IPython.display import display, Javascript\n",
        "from google.colab.output import eval_js\n",
        "from base64 import b64decode\n",
        "def take_photo(filename='photo.jpg', quality=0.8):\n",
        "  js = Javascript('''\n",
        "    async function takePhoto(quality) {\n",
        "      const div = document.createElement('div');\n",
        "      const capture = document.createElement('button');\n",
        "      capture.textContent = 'Capture';\n",
        "      div.appendChild(capture);\n",
        "\n",
        "      const video = document.createElement('video');\n",
        "      video.style.display = 'block';\n",
        "      const stream = await navigator.mediaDevices.getUserMedia({video: true});\n",
        "\n",
        "      document.body.appendChild(div);\n",
        "      div.appendChild(video);\n",
        "      video.srcObject = stream;\n",
        "      await video.play();\n",
        "\n",
        "      // Resize the output to fit the video element.\n",
        "      google.colab.output.setIframeHeight(document.documentElement.scrollHeight, true);\n",
        "\n",
        "      // Wait for Capture to be clicked.\n",
        "      await new Promise((resolve) => capture.onclick = resolve);\n",
        "\n",
        "      const canvas = document.createElement('canvas');\n",
        "      canvas.width = video.videoWidth;\n",
        "      canvas.height = video.videoHeight;\n",
        "      canvas.getContext('2d').drawImage(video, 0, 0);\n",
        "      stream.getVideoTracks()[0].stop();\n",
        "      div.remove();\n",
        "      return canvas.toDataURL('image/jpeg', quality);\n",
        "    }\n",
        "    ''')\n",
        "  display(js)\n",
        "  data = eval_js('takePhoto({})'.format(quality))\n",
        "  binary = b64decode(data.split(',')[1])\n",
        "  with open(filename, 'wb') as f:\n",
        "    f.write(binary)\n",
        "  return filename"
      ],
      "metadata": {
        "id": "ZnVSKDm8-5ZZ"
      },
      "execution_count": null,
      "outputs": []
    },
    {
      "cell_type": "code",
      "source": [
        "from IPython.display import Image\n",
        "mode = input('are you testing or training')\n",
        "if mode == 'testing':\n",
        "  try:\n",
        "    filename = take_photo(filename=f'testing_pic.png')\n",
        "    print('Saved to {}'.format(filename))\n",
        "    Image(filename)\n",
        "  except Exception as err:\n",
        "    print(str(err))\n",
        "else:\n",
        "  for i in range(0,50):\n",
        "    try:\n",
        "      filename = take_photo(filename=f'photo({i}).png')\n",
        "      print('Saved to {}'.format(filename))\n",
        "      Image(filename)\n",
        "    except Exception as err:\n",
        "      print(str(err))"
      ],
      "metadata": {
        "id": "_77x93L5-5Zm"
      },
      "execution_count": null,
      "outputs": []
    },
    {
      "cell_type": "code",
      "source": [
        "import json\n",
        "import sys\n",
        "sys.path.append('/content/gdrive/config.ipynb')\n",
        "\n",
        "# Now we can import the library and use the function.\n",
        "\n",
        "a = !curl --location --request POST 'https://agw-production.platform.landingai.io/inference/v1/predict?project_id=11402' \\\n",
        "--header 'Content-Type: multipart/form-data' \\\n",
        "--header 'apikey: ............' \\\n",
        "--header 'apisecret: ..................................' \\\n",
        "--form 'file=@\"testing_pic.png\"'\n",
        "ans = a[0]\n",
        "\n",
        "\n",
        "  \n",
        " \n",
        "\n",
        "res = json.loads(ans)\n",
        "  \n",
        "print(res)"
      ],
      "metadata": {
        "id": "v_Gw8aeFYzCv"
      },
      "execution_count": null,
      "outputs": []
    },
    {
      "cell_type": "code",
      "source": [
        "%pylab inline\n",
        "import matplotlib.pyplot as plt\n",
        "import matplotlib.image as mpimg\n",
        "img = mpimg.imread('testing_pic.png',0)\n",
        "imgplot = plt.imshow(img)\n",
        "\n",
        "if len(list(res['backbonepredictions'].keys())) != 0:\n",
        "  \n",
        "  plt.title(f\"labels:{len(list(res['backbonepredictions'].keys()))}\")\n",
        "  for i in range(0,len(list(res['backbonepredictions'].keys()))):\n",
        "    xmin = res['backbonepredictions'][list(res['backbonepredictions'].keys())[i]]['coordinates']['xmin']\n",
        "    xmax = res['backbonepredictions'][list(res['backbonepredictions'].keys())[i]]['coordinates']['xmax']\n",
        "    ymin = res['backbonepredictions'][list(res['backbonepredictions'].keys())[i]]['coordinates']['ymin']\n",
        "    ymax = res['backbonepredictions'][list(res['backbonepredictions'].keys())[i]]['coordinates']['ymax']\n",
        "    score = res['backbonepredictions'][list(res['backbonepredictions'].keys())[i]]['score']\n",
        "    plt.plot([xmin,xmax],[ymin,ymin],color='black')\n",
        "    plt.plot([xmin,xmax],[ymax,ymax],color='black')\n",
        "    plt.plot([xmin,xmin],[ymin,ymax],color='black')\n",
        "    plt.plot([xmax,xmax],[ymin,ymax],color='black')\n",
        "    label = res['backbonepredictions'][list(res['backbonepredictions'].keys())[i]]['labelName']\n",
        "    plt.text(xmax,ymax,f'{label} score:{round(score,5)}',color='blue')\n",
        "else:\n",
        "  plt.title('nothing to label')\n",
        "plt.show()"
      ],
      "metadata": {
        "id": "LT0f9MwlE9bS"
      },
      "execution_count": null,
      "outputs": []
    }
  ]
}